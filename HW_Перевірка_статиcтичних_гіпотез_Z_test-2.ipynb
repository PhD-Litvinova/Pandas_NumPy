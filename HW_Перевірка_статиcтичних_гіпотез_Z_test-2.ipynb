{
  "cells": [
    {
      "cell_type": "markdown",
      "id": "e152f6d6",
      "metadata": {
        "ExecuteTime": {
          "end_time": "2022-12-10T14:29:24.703416Z",
          "start_time": "2022-12-10T14:29:24.688485Z"
        },
        "id": "e152f6d6"
      },
      "source": [
        "#Перевірка статиcтичних гіпотез. Z-test.\n",
        "\n"
      ]
    },
    {
      "cell_type": "markdown",
      "id": "cd404683",
      "metadata": {
        "id": "cd404683"
      },
      "source": [
        "0. Зчитайте дані з `data.csv` у змінну data, яка має тип pandas.DataFrame. Ми будемо далі працювати з цією змінною."
      ]
    },
    {
      "cell_type": "code",
      "source": [
        "import numpy as np\n",
        "import pandas as pd\n",
        "import matplotlib.pyplot as plt\n",
        "import seaborn as sns\n",
        "from scipy import stats\n",
        "from statsmodels.stats import weightstats as stests"
      ],
      "metadata": {
        "id": "fGKRQMRK91hj"
      },
      "id": "fGKRQMRK91hj",
      "execution_count": 45,
      "outputs": []
    },
    {
      "cell_type": "code",
      "source": [
        "from google.colab import drive\n",
        "drive.mount('/content/drive')"
      ],
      "metadata": {
        "colab": {
          "base_uri": "https://localhost:8080/"
        },
        "id": "ev7X2LZX-7hB",
        "outputId": "e3442478-a75a-445f-b2fb-3f43ae9b35af"
      },
      "id": "ev7X2LZX-7hB",
      "execution_count": 7,
      "outputs": [
        {
          "output_type": "stream",
          "name": "stdout",
          "text": [
            "Drive already mounted at /content/drive; to attempt to forcibly remount, call drive.mount(\"/content/drive\", force_remount=True).\n"
          ]
        }
      ]
    },
    {
      "cell_type": "code",
      "source": [
        "data = pd.read_csv('drive/MyDrive/Data_analitic/Python/data.csv')\n"
      ],
      "metadata": {
        "id": "4tus-lFl-_6V"
      },
      "id": "4tus-lFl-_6V",
      "execution_count": 10,
      "outputs": []
    },
    {
      "cell_type": "markdown",
      "id": "3d06cbbf",
      "metadata": {
        "id": "3d06cbbf"
      },
      "source": [
        "Запустіть код нижче. Для коректної робити всіх подальших методів дані мають бути у вигляді одновимірного `numpy.ndarray` вектора та мати розмірність (100,). Така розмірність означає, що дані - одновимірні (колонка), якщо б розмірність була (100, 1), то дані сприймаються методами як двовимірні (таблиця), хоча для нас виглядати можуть так само."
      ]
    },
    {
      "cell_type": "code",
      "execution_count": 11,
      "id": "cce1632b",
      "metadata": {
        "id": "cce1632b",
        "colab": {
          "base_uri": "https://localhost:8080/"
        },
        "outputId": "9c08369b-9780-4576-e5e1-11174953b542"
      },
      "outputs": [
        {
          "output_type": "execute_result",
          "data": {
            "text/plain": [
              "(100,)"
            ]
          },
          "metadata": {},
          "execution_count": 11
        }
      ],
      "source": [
        "data = data.data.values\n",
        "data.shape"
      ]
    },
    {
      "cell_type": "markdown",
      "id": "abdcef5d",
      "metadata": {
        "id": "abdcef5d"
      },
      "source": [
        "**Завдання 1**. Зчитані дані - це сума покупок в доларах наших покупців на сайті протягом липня 2025 року.\n",
        "\n",
        "До цього місяця, ми мали продажі в середньому на чек $20.\n",
        "\n",
        "Необхідно зʼясувати, чи вийшло у нас статистично значущо **підвищити** середній чек за липень 2025?\n",
        "\n",
        "Аби дати відповідь - ми проведемо z-test на рівні значущості $\\alpha=0.05$ двома способами. В цьому завданні ми будемо виконувати обчислення \"вручну\" з використанням бібліотек numpy та scipy.stats подібно до прикладу в лекції. Для цього виконайте наступні 7 кроків. Правильне виконання кожного з кроків оцінюється в 1 бал.\n",
        "\n",
        "1. Запишіть параметри задачі у змінні Python:\n",
        "    - `sample_mean` - $\\bar{x}$, середнє значення в вибірці\n",
        "    - `population_mean` - $\\mu_0$, середнє значення в популяції (тобто те, з яким ми порівнюємо середнє вибіркове значення)\n",
        "    - `population_std` - $\\sigma$, вибіркове стандартне відхилення, яке ми вважаємо, що є рівним ст. відх. популяції, адже маємо достатньо велику вибірку.\n",
        "    - `sample_size` - $n$, розмір вибірки\n",
        "    - `alpha` - $\\alpha$ рівень значущості\n",
        "    \n",
        "    **Увага!** Для обчислення стандартного відхилення маємо скористатись функцією `np.std(your_dataframe, ddof=1)`. Чому так - розбираємо в лекції про t-test.\n",
        "\n",
        "\n",
        "2. Визначте для цієї задачі:\n",
        "    - якою є гіпотеза $H_0$\n",
        "    - якою є альтернативна гіпотеза $H_a$\n",
        "    - з яким типом тесту ми маємо справу - лівосторонній, правосторонній чи двосторонній.\n",
        "\n",
        "3. Обчисліть стандартну помилку SE.\n",
        "4. Розрахуйте z-статистику.\n",
        "5. Знайдіть критичне z-значення з допомогою бібліотеки stats.\n",
        "6. Обчисліть p-value з допомогою бібліотеки stats.\n",
        "7. Прийміть рішення, чи відхиляєте ви гіпотезу $H_0$. Для прийняття рішення зробіть і порівняння z-статистики з критичним значенням, і проаналізуйте p-value."
      ]
    },
    {
      "cell_type": "code",
      "source": [
        "sample_mean = np.round(np.mean(data),2)"
      ],
      "metadata": {
        "id": "KaDNOKWBDHLo"
      },
      "id": "KaDNOKWBDHLo",
      "execution_count": 23,
      "outputs": []
    },
    {
      "cell_type": "code",
      "source": [
        "sample_mean"
      ],
      "metadata": {
        "colab": {
          "base_uri": "https://localhost:8080/"
        },
        "id": "rPkGY9QPDffu",
        "outputId": "a54a9007-db79-4ce2-eeb0-e3d1bb8d9ba1"
      },
      "id": "rPkGY9QPDffu",
      "execution_count": 24,
      "outputs": [
        {
          "output_type": "execute_result",
          "data": {
            "text/plain": [
              "np.float64(19.38)"
            ]
          },
          "metadata": {},
          "execution_count": 24
        }
      ]
    },
    {
      "cell_type": "code",
      "source": [
        "sample_mean = np.mean(data)\n",
        "print(f'Середнє у вибірці : {sample_mean:.2f}')\n",
        "population_std = np.std(data, ddof=1)\n",
        "print(f'Стандартне відхилення: {population_std:.2f}')\n",
        "sample_size = len(data)\n",
        "print(f'Розмір вибірки: {sample_size}')"
      ],
      "metadata": {
        "colab": {
          "base_uri": "https://localhost:8080/"
        },
        "id": "5yDiNbXhEk_f",
        "outputId": "2ca21464-856f-411e-f2c5-36d21197ea5f"
      },
      "id": "5yDiNbXhEk_f",
      "execution_count": 32,
      "outputs": [
        {
          "output_type": "stream",
          "name": "stdout",
          "text": [
            "Середнє у вибірці : 19.38\n",
            "Стандартне відхилення: 6.25\n",
            "Розмір вибірки: 100\n"
          ]
        }
      ]
    },
    {
      "cell_type": "markdown",
      "source": [
        "# Завдання № 1"
      ],
      "metadata": {
        "id": "Jr9etIz1Fu-J"
      },
      "id": "Jr9etIz1Fu-J"
    },
    {
      "cell_type": "code",
      "source": [
        "sample_mean = 19\n",
        "population_mean = 20\n",
        "population_std = 6.25\n",
        "sample_size = 100\n",
        "alpha = 0.05"
      ],
      "metadata": {
        "id": "oolRe6EmJBvR"
      },
      "id": "oolRe6EmJBvR",
      "execution_count": 38,
      "outputs": []
    },
    {
      "cell_type": "markdown",
      "source": [
        "#Завдання № 2\n",
        "\n",
        "Гіпотези\n",
        "\n",
        "- H₀: μ = 20 (середній чек за липень 2025)\n",
        "- H₁: μ > 20 (середній чек збільшився)\n",
        "- Тип тесту: правосторонній (one-tailed)"
      ],
      "metadata": {
        "id": "FI1xj4RNB0fi"
      },
      "id": "FI1xj4RNB0fi"
    },
    {
      "cell_type": "markdown",
      "source": [
        "#Завдання № 3"
      ],
      "metadata": {
        "id": "mIHB3RMJIA6p"
      },
      "id": "mIHB3RMJIA6p"
    },
    {
      "cell_type": "code",
      "source": [
        "population_std = 6.25\n",
        "sample_size = 100\n",
        "population_mean = 20\n",
        "\n",
        "standard_error = population_std / np.sqrt(sample_size)\n",
        "print(f'Стандартна помилка SE: {standard_error:.3f}')\n"
      ],
      "metadata": {
        "colab": {
          "base_uri": "https://localhost:8080/"
        },
        "id": "yypQl12bHyNr",
        "outputId": "c246beea-8741-41a4-e0a3-3f452df8330e"
      },
      "id": "yypQl12bHyNr",
      "execution_count": 35,
      "outputs": [
        {
          "output_type": "stream",
          "name": "stdout",
          "text": [
            "Стандартна помилка SE: 0.625\n"
          ]
        }
      ]
    },
    {
      "cell_type": "markdown",
      "source": [
        "#Завдання № 4"
      ],
      "metadata": {
        "id": "l5j5-KxwCNAt"
      },
      "id": "l5j5-KxwCNAt"
    },
    {
      "cell_type": "code",
      "source": [
        "z_score = (sample_mean - population_mean) / standard_error\n",
        "print(f'Z-статистика: {z_score:.3f}')"
      ],
      "metadata": {
        "colab": {
          "base_uri": "https://localhost:8080/"
        },
        "id": "UeacQ_aLIPJF",
        "outputId": "d905eba5-dff8-4b41-df5f-c90cc7941134"
      },
      "id": "UeacQ_aLIPJF",
      "execution_count": 40,
      "outputs": [
        {
          "output_type": "stream",
          "name": "stdout",
          "text": [
            "Z-статистика: -1.600\n"
          ]
        }
      ]
    },
    {
      "cell_type": "markdown",
      "source": [
        "#Завдання № 5"
      ],
      "metadata": {
        "id": "iYedHyApIECl"
      },
      "id": "iYedHyApIECl"
    },
    {
      "cell_type": "code",
      "source": [
        "z_critical = stats.norm.ppf(1 - alpha)\n",
        "print(f'Z-критичне: {z_critical:.3f}')"
      ],
      "metadata": {
        "colab": {
          "base_uri": "https://localhost:8080/"
        },
        "id": "WU3MOR63I7Xq",
        "outputId": "330f60f3-ca31-4e6e-ef1b-70599ec50e1c"
      },
      "id": "WU3MOR63I7Xq",
      "execution_count": 41,
      "outputs": [
        {
          "output_type": "stream",
          "name": "stdout",
          "text": [
            "Z-критичне: 1.645\n"
          ]
        }
      ]
    },
    {
      "cell_type": "markdown",
      "source": [
        "#Завдання № 6"
      ],
      "metadata": {
        "id": "rf8Lc147JNOI"
      },
      "id": "rf8Lc147JNOI"
    },
    {
      "cell_type": "code",
      "source": [
        "p_value = 1 - stats.norm.cdf(z_score)\n",
        "print(f'p_value: {p_value:.3f}')"
      ],
      "metadata": {
        "colab": {
          "base_uri": "https://localhost:8080/"
        },
        "id": "64EiHrf7JQmP",
        "outputId": "50edcd4e-3292-46b7-a728-cdb7f7bf0189"
      },
      "id": "64EiHrf7JQmP",
      "execution_count": 42,
      "outputs": [
        {
          "output_type": "stream",
          "name": "stdout",
          "text": [
            "p_value: 0.945\n"
          ]
        }
      ]
    },
    {
      "cell_type": "markdown",
      "source": [
        "#Завдання № 7"
      ],
      "metadata": {
        "id": "LyWQ0ZNiNc6E"
      },
      "id": "LyWQ0ZNiNc6E"
    },
    {
      "cell_type": "code",
      "source": [
        "z_score = -1.600\n",
        "z_critical = 1.645\n",
        "p_value = 0.945\n",
        "alpha = 0.05\n",
        "\n",
        "# Перевірка за z-статистикою\n",
        "if z_score > z_critical:\n",
        "    print(\"Відхиляємо нульову гіпотезу на основі z-статистики.\")\n",
        "else:\n",
        "    print(\"Не відхиляємо нульову гіпотезу на основі z-статистики.\")\n",
        "\n",
        "# Перевірка за p-значенням\n",
        "if p_value < alpha:\n",
        "    print(\"Відхиляємо нульову гіпотезу на основі p-значення.\")\n",
        "else:\n",
        "    print(\"Не відхиляємо нульову гіпотезу на основі p-значення.\")\n"
      ],
      "metadata": {
        "colab": {
          "base_uri": "https://localhost:8080/"
        },
        "id": "lO2VmEVjKjPz",
        "outputId": "7d1dd5af-04e4-4f00-fed2-035d3d40289b"
      },
      "id": "lO2VmEVjKjPz",
      "execution_count": 44,
      "outputs": [
        {
          "output_type": "stream",
          "name": "stdout",
          "text": [
            "Не відхиляємо нульову гіпотезу на основі z-статистики.\n",
            "Не відхиляємо нульову гіпотезу на основі p-значення.\n"
          ]
        }
      ]
    },
    {
      "cell_type": "markdown",
      "source": [
        "**Завдання 2.** Виконайте обчислення z-test з використанням бібліотеки statsmodels.\n",
        "\n",
        "Отримайте z-статистику та р-значення.\n",
        "\n",
        "Виведіть p-значення та зробіть висновок, чи ми маємо достатньо доказів, аби стверджувати, що середній чек зріс.\n",
        "\n",
        "Чи зійшлись значення z-статистику та р-значення в цьому завданні з попередніми обчисленнями?\n",
        "\n",
        "Завдання оцінюється в 3 бали."
      ],
      "metadata": {
        "id": "0FOBByRMXkL2"
      },
      "id": "0FOBByRMXkL2"
    },
    {
      "cell_type": "code",
      "source": [
        "z_stat_sm, p_val_sm = stests.ztest(data,\n",
        "                                  value=population_mean,\n",
        "                                  alternative='larger')\n",
        "print(f\"  Z-статистика: {z_stat_sm:.3f}\")\n",
        "print(f\"  P-value: {p_val_sm:.6f}\")"
      ],
      "metadata": {
        "id": "f_Oa0DJhdg6v",
        "colab": {
          "base_uri": "https://localhost:8080/"
        },
        "outputId": "b492b652-c354-4c74-f78a-d94a34259f65"
      },
      "id": "f_Oa0DJhdg6v",
      "execution_count": 46,
      "outputs": [
        {
          "output_type": "stream",
          "name": "stdout",
          "text": [
            "  Z-статистика: -0.995\n",
            "  P-value: 0.840216\n"
          ]
        }
      ]
    },
    {
      "cell_type": "markdown",
      "source": [
        "У попередніх ручних обчисленнях було:\n",
        "- Z-статистика: -1.600\n",
        "- p-value: близько 0.945\n",
        "А при автоматичному обчисленні:\n",
        "- Z-статистика: -0.995\n",
        "- p-value: 0.840216\n",
        "\n",
        "- Значення не тотожні, але мають спільну тенденцію і невелику різницю. Не має достатньо доказів, щоб стверджувати, що середній чек збільшився. Тобто не відхиляємо H₀ гіпотезу."
      ],
      "metadata": {
        "id": "uZmrNiyKPmVp"
      },
      "id": "uZmrNiyKPmVp"
    }
  ],
  "metadata": {
    "hide_input": false,
    "kernelspec": {
      "display_name": "Python 3 (ipykernel)",
      "language": "python",
      "name": "python3"
    },
    "language_info": {
      "codemirror_mode": {
        "name": "ipython",
        "version": 3
      },
      "file_extension": ".py",
      "mimetype": "text/x-python",
      "name": "python",
      "nbconvert_exporter": "python",
      "pygments_lexer": "ipython3",
      "version": "3.11.3"
    },
    "toc": {
      "base_numbering": 1,
      "nav_menu": {},
      "number_sections": true,
      "sideBar": true,
      "skip_h1_title": false,
      "title_cell": "Table of Contents",
      "title_sidebar": "Contents",
      "toc_cell": false,
      "toc_position": {},
      "toc_section_display": true,
      "toc_window_display": false
    },
    "varInspector": {
      "cols": {
        "lenName": 16,
        "lenType": 16,
        "lenVar": 40
      },
      "kernels_config": {
        "python": {
          "delete_cmd_postfix": "",
          "delete_cmd_prefix": "del ",
          "library": "var_list.py",
          "varRefreshCmd": "print(var_dic_list())"
        },
        "r": {
          "delete_cmd_postfix": ") ",
          "delete_cmd_prefix": "rm(",
          "library": "var_list.r",
          "varRefreshCmd": "cat(var_dic_list()) "
        }
      },
      "types_to_exclude": [
        "module",
        "function",
        "builtin_function_or_method",
        "instance",
        "_Feature"
      ],
      "window_display": false
    },
    "colab": {
      "provenance": []
    }
  },
  "nbformat": 4,
  "nbformat_minor": 5
}