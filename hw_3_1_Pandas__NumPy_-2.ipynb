{
  "nbformat": 4,
  "nbformat_minor": 0,
  "metadata": {
    "colab": {
      "provenance": []
    },
    "kernelspec": {
      "name": "python3",
      "display_name": "Python 3"
    },
    "language_info": {
      "name": "python"
    }
  },
  "cells": [
    {
      "cell_type": "markdown",
      "metadata": {
        "id": "6bbb4b6a"
      },
      "source": [
        "# Домашнє завдання до теми \"Введення у Pandas та NumPy\""
      ]
    },
    {
      "cell_type": "markdown",
      "metadata": {
        "id": "7ef4e602"
      },
      "source": [
        "У домашніх завданнях цього модулю ми працюємо з набором даних про продажі в різних магазинах мережі супермаркетів.\n",
        "\n",
        "## Контекст даних\n",
        "Зростання супермаркетів у найбільш населених містах збільшується, а конкуренція на ринку також висока. Набір даних є вигрузкою історичних продажів компанії-мережі супермаркетів у 3х різних філіях протягом 3 місяців.\n",
        "\n",
        "**Ціль:** Цей набір даних може бути використаний для цілей розуміння тенденцій продажів, які товари в якому місті варто продавати, а поставку яких - варто скоротити. На основі цих даних можна оцінити майбутні тенденції продажів, оцінити поведінку споживачів та оптимізувати стратегію продажів.\n",
        "\n",
        "Ми будемо робити елементи аналізу в цьому напрямі.\n",
        "\n",
        "## Опис даних\n",
        "\n",
        "| Назва оригінальна           | Переклад назви             | Опис українською                                                                                       |\n",
        "|---------------------------|--------------------------|-----------------------------------------------------------------------------------------------------|\n",
        "| Invoice id                | Ідентифікатор чека       | Комп’ютерно генерований номер ідентифікації чека продажу                                             |\n",
        "| Branch                    | Філія                    | Філія супермаркету (доступні 3 філії, ідентифіковані як A, B та C)                                     |\n",
        "| City                      | Місто                    | Місцезнаходження суперцентрів                                                                        |\n",
        "| Customer type             | Тип клієнта              | Тип клієнтів, зафіксований як Члени для клієнтів, що використовують картку члена, та Звичайні без картки |\n",
        "| Gender                    | Стать                    | Стать покупця                                                                                       |\n",
        "| Product line              | Лінійка продуктів        | Загальні групи категоризації товарів - Електронні аксесуари, Модні аксесуари, Їжа та напої, Здоров’я та краса, Дім і стиль життя, Спорт та подорожі |\n",
        "| Unit price                | Ціна за одиницю          | Ціна кожного продукту в доларах США                                                                  |\n",
        "| Quantity                  | Кількість                | Кількість продуктів, придбаних клієнтом                                                             |\n",
        "| Tax                       | Податок                  | 5% податковий збір для покупця                                                                       |\n",
        "| Total                     | Загальна сума            | Загальна ціна з урахуванням податку                                                                  |\n",
        "| Date                      | Дата                     | Дата покупки (Дані доступні з січня 2019 по березень 2019)                                           |\n",
        "| Time                      | Час                      | Час покупки (з 10:00 до 21:00)                                                                       |\n",
        "| Payment                   | Оплата                   | Метод оплати, використаний клієнтом для покупки (доступні 3 методи – Готівка, Кредитна картка та Електронний гаманець) |\n",
        "| COGS                      | Собівартість проданих товарів | Собівартість проданих товарів                                                                      |\n",
        "| Gross margin percentage   | Відсоток валового прибутку | Відсоток валового прибутку                                                                         |\n",
        "| Gross income              | Валовий дохід            | Валовий дохід                                                                                       |\n",
        "| Rating                    | Рейтинг                  | Рейтинг задоволення клієнтів від загального досвіду покупок (На шкалі від 1 до 10)                    |\n",
        "\n",
        "\n",
        "## Робота з даними в рамках завдань цього модулю\n",
        "\n",
        "Завантажте дані з навчальної платформи собі локально. Як найркаще організувати збереження даних і ноутбуків було наведено в лекції. Якщо Ви працюєте в Colab - то рекомендую або розмістити дані у себе на диску і підключити диск (`Files` -> `Mount Drive`) або перетягнути дані в `Files` на робочу сесію і читати звідти.\n",
        "\n",
        "Дані ми НЕ заливаємо зазвичай в git, особливо якщо вони більше 10мб - це погана практика. Ліпше залити на гугл диск і дати посилання в репозиторії в readme.md файлі, якщо дані великі. Саме так рекомендую робити для проєктів з портфоліо.\n",
        "\n",
        "У домашніх завданнях цього модуля особливо важливо **уважно** читати формулювання завдання і всі коментарі. Також у цьому модулі треба по максимуму використовувати функціонал бібліотеки pandas, навіть якщо існують альтернативні способи зробити те саме. Нагадую, що працюючи з pandas ми здебільшого НЕ потребуємо використовувати цикли для створення колонки - для цього є інші, більш загальноприйняті методи, розглянуті в лекції.\n"
      ]
    },
    {
      "cell_type": "code",
      "source": [
        "! pip show pandas"
      ],
      "metadata": {
        "colab": {
          "base_uri": "https://localhost:8080/"
        },
        "id": "SxCNJiW2wkfR",
        "outputId": "be4a1f8b-764c-48e0-8d7b-5c5488320d27"
      },
      "execution_count": 4,
      "outputs": [
        {
          "output_type": "stream",
          "name": "stdout",
          "text": [
            "Name: pandas\n",
            "Version: 2.2.2\n",
            "Summary: Powerful data structures for data analysis, time series, and statistics\n",
            "Home-page: https://pandas.pydata.org\n",
            "Author: \n",
            "Author-email: The Pandas Development Team <pandas-dev@python.org>\n",
            "License: BSD 3-Clause License\n",
            "\n",
            "Copyright (c) 2008-2011, AQR Capital Management, LLC, Lambda Foundry, Inc. and PyData Development Team\n",
            "All rights reserved.\n",
            "\n",
            "Copyright (c) 2011-2023, Open source contributors.\n",
            "\n",
            "Redistribution and use in source and binary forms, with or without\n",
            "modification, are permitted provided that the following conditions are met:\n",
            "\n",
            "* Redistributions of source code must retain the above copyright notice, this\n",
            "  list of conditions and the following disclaimer.\n",
            "\n",
            "* Redistributions in binary form must reproduce the above copyright notice,\n",
            "  this list of conditions and the following disclaimer in the documentation\n",
            "  and/or other materials provided with the distribution.\n",
            "\n",
            "* Neither the name of the copyright holder nor the names of its\n",
            "  contributors may be used to endorse or promote products derived from\n",
            "  this software without specific prior written permission.\n",
            "\n",
            "THIS SOFTWARE IS PROVIDED BY THE COPYRIGHT HOLDERS AND CONTRIBUTORS \"AS IS\"\n",
            "AND ANY EXPRESS OR IMPLIED WARRANTIES, INCLUDING, BUT NOT LIMITED TO, THE\n",
            "IMPLIED WARRANTIES OF MERCHANTABILITY AND FITNESS FOR A PARTICULAR PURPOSE ARE\n",
            "DISCLAIMED. IN NO EVENT SHALL THE COPYRIGHT HOLDER OR CONTRIBUTORS BE LIABLE\n",
            "FOR ANY DIRECT, INDIRECT, INCIDENTAL, SPECIAL, EXEMPLARY, OR CONSEQUENTIAL\n",
            "DAMAGES (INCLUDING, BUT NOT LIMITED TO, PROCUREMENT OF SUBSTITUTE GOODS OR\n",
            "SERVICES; LOSS OF USE, DATA, OR PROFITS; OR BUSINESS INTERRUPTION) HOWEVER\n",
            "CAUSED AND ON ANY THEORY OF LIABILITY, WHETHER IN CONTRACT, STRICT LIABILITY,\n",
            "OR TORT (INCLUDING NEGLIGENCE OR OTHERWISE) ARISING IN ANY WAY OUT OF THE USE\n",
            "OF THIS SOFTWARE, EVEN IF ADVISED OF THE POSSIBILITY OF SUCH DAMAGE.\n",
            "Location: /usr/local/lib/python3.11/dist-packages\n",
            "Requires: numpy, python-dateutil, pytz, tzdata\n",
            "Required-by: arviz, bigframes, bigquery-magics, bokeh, bqplot, cmdstanpy, cudf-cu12, cufflinks, dask-cuda, dask-cudf-cu12, dask-expr, datascience, datasets, db-dtypes, dopamine_rl, fastai, geemap, geopandas, google-colab, gradio, gspread-dataframe, holoviews, libpysal, mizani, mlxtend, pandas-datareader, pandas-gbq, panel, plotnine, prophet, pymc, seaborn, shap, sklearn-pandas, statsmodels, tensorflow_decision_forests, tsfresh, vega-datasets, xarray, yfinance\n"
          ]
        }
      ]
    },
    {
      "cell_type": "markdown",
      "source": [
        "1. Імпортуйте бібліотеку pandas в загальноприйнятому форматі."
      ],
      "metadata": {
        "id": "39qzN0NZAPFm"
      }
    },
    {
      "cell_type": "code",
      "source": [
        "import pandas as pd"
      ],
      "metadata": {
        "id": "jA1fRzz4AOsE"
      },
      "execution_count": 5,
      "outputs": []
    },
    {
      "cell_type": "code",
      "source": [
        "from google.colab import drive\n",
        "drive.mount('/content/drive')"
      ],
      "metadata": {
        "id": "Gkrb7zDbvbFc",
        "colab": {
          "base_uri": "https://localhost:8080/"
        },
        "outputId": "4baa38f7-c10e-446f-972b-cf9721b07812"
      },
      "execution_count": 7,
      "outputs": [
        {
          "output_type": "stream",
          "name": "stdout",
          "text": [
            "Mounted at /content/drive\n"
          ]
        }
      ]
    },
    {
      "cell_type": "markdown",
      "metadata": {
        "ExecuteTime": {
          "end_time": "2021-09-20T19:43:50.443031Z",
          "start_time": "2021-09-20T19:43:50.439600Z"
        },
        "id": "fd7f076b"
      },
      "source": [
        "2. За допомогою бібліотеки Pandas, викликом однієї функції зчитайте набір даних із файлу `supermarket_sales.csv` в змінну `df` типу `pandas.DataFrame`.\n",
        "Виведіть тип даних змінної `df`."
      ]
    },
    {
      "cell_type": "code",
      "source": [
        "data_path = 'drive/MyDrive/Data_analitic/Python/Pandas_Python/supermarket_sales.csv'\n",
        "df = pd.read_csv(data_path)"
      ],
      "metadata": {
        "id": "0kbbVMM1ATsk"
      },
      "execution_count": 14,
      "outputs": []
    },
    {
      "cell_type": "code",
      "source": [
        "print(type(df))"
      ],
      "metadata": {
        "colab": {
          "base_uri": "https://localhost:8080/"
        },
        "id": "HQzeDWdCyupX",
        "outputId": "132f9ef9-8624-4c29-a2e1-1da96f69cde4"
      },
      "execution_count": 18,
      "outputs": [
        {
          "output_type": "stream",
          "name": "stdout",
          "text": [
            "<class 'pandas.core.frame.DataFrame'>\n"
          ]
        }
      ]
    },
    {
      "cell_type": "markdown",
      "metadata": {
        "ExecuteTime": {
          "end_time": "2022-11-01T16:51:38.594974Z",
          "start_time": "2022-11-01T16:51:38.591423Z"
        },
        "id": "33661c15"
      },
      "source": [
        "3. Виведіть кількість рядків і кількість колонок в наборі даних. Відповідь сформуйте використовуючи fstring у наступному форматі: `Набір даних містить 1000 рядків та 17 колонок`"
      ]
    },
    {
      "cell_type": "code",
      "execution_count": 20,
      "metadata": {
        "ExecuteTime": {
          "end_time": "2022-11-01T16:54:59.887783Z",
          "start_time": "2022-11-01T16:54:59.884323Z"
        },
        "id": "bac0cbfc",
        "colab": {
          "base_uri": "https://localhost:8080/"
        },
        "outputId": "99be47a1-6e85-449f-f7fb-75f110929150"
      },
      "outputs": [
        {
          "output_type": "stream",
          "name": "stdout",
          "text": [
            "Набір даних містить 1000 рядків та 17 колонок\n"
          ]
        }
      ],
      "source": [
        "print(f'Набір даних містить {df.shape[0]} рядків та {df.shape[1]} колонок')"
      ]
    },
    {
      "cell_type": "markdown",
      "source": [
        "4. Скільки оперативної памʼяті у мегабайтах займає даний набір даних? Обчисліть за допомогою pandas і виведіть на екран."
      ],
      "metadata": {
        "id": "4i5dUphZ_JxM"
      }
    },
    {
      "cell_type": "code",
      "source": [
        "df.memory_usage()"
      ],
      "metadata": {
        "id": "kwoNKAr-_JDf",
        "colab": {
          "base_uri": "https://localhost:8080/",
          "height": 641
        },
        "outputId": "dbd0b5dd-9279-4445-d2c1-2249ca12a7b6"
      },
      "execution_count": 21,
      "outputs": [
        {
          "output_type": "execute_result",
          "data": {
            "text/plain": [
              "Index                       132\n",
              "Invoice ID                 8000\n",
              "Branch                     8000\n",
              "City                       8000\n",
              "Customer type              8000\n",
              "Gender                     8000\n",
              "Product line               8000\n",
              "Unit price                 8000\n",
              "Quantity                   8000\n",
              "Tax 5%                     8000\n",
              "Total                      8000\n",
              "Date                       8000\n",
              "Time                       8000\n",
              "Payment                    8000\n",
              "cogs                       8000\n",
              "gross margin percentage    8000\n",
              "gross income               8000\n",
              "Rating                     8000\n",
              "dtype: int64"
            ],
            "text/html": [
              "<div>\n",
              "<style scoped>\n",
              "    .dataframe tbody tr th:only-of-type {\n",
              "        vertical-align: middle;\n",
              "    }\n",
              "\n",
              "    .dataframe tbody tr th {\n",
              "        vertical-align: top;\n",
              "    }\n",
              "\n",
              "    .dataframe thead th {\n",
              "        text-align: right;\n",
              "    }\n",
              "</style>\n",
              "<table border=\"1\" class=\"dataframe\">\n",
              "  <thead>\n",
              "    <tr style=\"text-align: right;\">\n",
              "      <th></th>\n",
              "      <th>0</th>\n",
              "    </tr>\n",
              "  </thead>\n",
              "  <tbody>\n",
              "    <tr>\n",
              "      <th>Index</th>\n",
              "      <td>132</td>\n",
              "    </tr>\n",
              "    <tr>\n",
              "      <th>Invoice ID</th>\n",
              "      <td>8000</td>\n",
              "    </tr>\n",
              "    <tr>\n",
              "      <th>Branch</th>\n",
              "      <td>8000</td>\n",
              "    </tr>\n",
              "    <tr>\n",
              "      <th>City</th>\n",
              "      <td>8000</td>\n",
              "    </tr>\n",
              "    <tr>\n",
              "      <th>Customer type</th>\n",
              "      <td>8000</td>\n",
              "    </tr>\n",
              "    <tr>\n",
              "      <th>Gender</th>\n",
              "      <td>8000</td>\n",
              "    </tr>\n",
              "    <tr>\n",
              "      <th>Product line</th>\n",
              "      <td>8000</td>\n",
              "    </tr>\n",
              "    <tr>\n",
              "      <th>Unit price</th>\n",
              "      <td>8000</td>\n",
              "    </tr>\n",
              "    <tr>\n",
              "      <th>Quantity</th>\n",
              "      <td>8000</td>\n",
              "    </tr>\n",
              "    <tr>\n",
              "      <th>Tax 5%</th>\n",
              "      <td>8000</td>\n",
              "    </tr>\n",
              "    <tr>\n",
              "      <th>Total</th>\n",
              "      <td>8000</td>\n",
              "    </tr>\n",
              "    <tr>\n",
              "      <th>Date</th>\n",
              "      <td>8000</td>\n",
              "    </tr>\n",
              "    <tr>\n",
              "      <th>Time</th>\n",
              "      <td>8000</td>\n",
              "    </tr>\n",
              "    <tr>\n",
              "      <th>Payment</th>\n",
              "      <td>8000</td>\n",
              "    </tr>\n",
              "    <tr>\n",
              "      <th>cogs</th>\n",
              "      <td>8000</td>\n",
              "    </tr>\n",
              "    <tr>\n",
              "      <th>gross margin percentage</th>\n",
              "      <td>8000</td>\n",
              "    </tr>\n",
              "    <tr>\n",
              "      <th>gross income</th>\n",
              "      <td>8000</td>\n",
              "    </tr>\n",
              "    <tr>\n",
              "      <th>Rating</th>\n",
              "      <td>8000</td>\n",
              "    </tr>\n",
              "  </tbody>\n",
              "</table>\n",
              "</div><br><label><b>dtype:</b> int64</label>"
            ]
          },
          "metadata": {},
          "execution_count": 21
        }
      ]
    },
    {
      "cell_type": "markdown",
      "source": [],
      "metadata": {
        "id": "C11eESoF05eL"
      }
    },
    {
      "cell_type": "code",
      "source": [
        "print(f'{round(df.memory_usage().sum()/ (1024 * 1024),6)} мегабайт оперативної памʼяті займає даний набір даних')"
      ],
      "metadata": {
        "colab": {
          "base_uri": "https://localhost:8080/"
        },
        "id": "a_VJW9FJ0MCA",
        "outputId": "c26a26a9-558d-4340-b850-4ebea694c3e9"
      },
      "execution_count": 32,
      "outputs": [
        {
          "output_type": "stream",
          "name": "stdout",
          "text": [
            "0.129826 мегабайт оперативної памʼяті займає даний набір даних\n"
          ]
        }
      ]
    },
    {
      "cell_type": "code",
      "source": [
        "print(f'{df.memory_usage().sum()/ (1024 * 1024)} мегабайт оперативної памʼяті займає даний набір даних')"
      ],
      "metadata": {
        "colab": {
          "base_uri": "https://localhost:8080/"
        },
        "id": "5QC94svQ1HAS",
        "outputId": "6dee76ec-ae0e-40c9-e8a6-4a13db870e96"
      },
      "execution_count": 30,
      "outputs": [
        {
          "output_type": "stream",
          "name": "stdout",
          "text": [
            "0.12982559204101562 мегабайт оперативної памʼяті займає даний набір даних\n"
          ]
        }
      ]
    },
    {
      "cell_type": "markdown",
      "source": [
        "**Перше домашнє завдання із Pandas виконано! 🚀✔️**"
      ],
      "metadata": {
        "id": "ksL_sc3RwPIe"
      }
    }
  ]
}