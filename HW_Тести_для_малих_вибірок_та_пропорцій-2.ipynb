{
  "cells": [
    {
      "cell_type": "markdown",
      "id": "e152f6d6",
      "metadata": {
        "ExecuteTime": {
          "end_time": "2022-12-10T14:29:24.703416Z",
          "start_time": "2022-12-10T14:29:24.688485Z"
        },
        "id": "e152f6d6"
      },
      "source": [
        "# Тести для малих вибірок та пропорцій\n",
        "\n"
      ]
    },
    {
      "cell_type": "markdown",
      "id": "abdcef5d",
      "metadata": {
        "id": "abdcef5d"
      },
      "source": [
        "**Завдання 1**. E-commerce компанія після редизайну сайту підозрює, що **середній час до покупки (time-to-purchase)** користувачів **збільшився**.\n",
        "Історично середній час від першого заходу на сайт до покупки становив $\\mu_0 = 123.7$ хвилин.\n",
        "\n",
        "Команда аналітиків випадково обрала дані **7 покупців після редизайну**:\n",
        "`128, 135, 121, 142, 126, 151, 123`\n",
        "\n",
        "З допомогою наявних даних зʼясуйте, чи збільшився середній час покупки після редизайну.\n",
        "\n",
        "Для цього виконайте наступні 6 кроків. Правильне виконання кожного з кроків оцінюється в 1 бал.\n",
        "\n",
        "1. Запишіть нульову та альтернативну гіпотези і визначте тип тесту.\n",
        "2. Обчисліть вибіркові статистики: $\\bar x$, $s$, $n$.\n",
        "3. Оберіть тип тесту та виконайте його (знайдіть критичне значення тесту, статистику тесту та р-значення) будь-яким пасуючим способом, щоб перевірити гіпотезу на рівні значущості $\\alpha = 0.10$.\n",
        "4. Прийміть рішення, чи відхиляєте ви гіпотезу $H_0$ використовуючи p-value.\n",
        "5. Напишіть висновок: чи справді редизайн сайту подовжив час до покупки?\n",
        "6. Чи зміниться ваше рішення при зміні рівня значущості на $\\alpha = 0.05$.\n"
      ]
    },
    {
      "cell_type": "code",
      "source": [
        "import numpy as np\n",
        "import pandas as pd\n",
        "from scipy import stats\n",
        "from statsmodels.stats import weightstats as stests"
      ],
      "metadata": {
        "id": "CT6aL_ykdn4H"
      },
      "id": "CT6aL_ykdn4H",
      "execution_count": 3,
      "outputs": []
    },
    {
      "cell_type": "code",
      "source": [
        "data = 128, 135, 121, 142, 126, 151, 123\n",
        "mean_in_commerce = 123.7\n",
        "alpha = 0.10\n",
        "alpha_2 = 0.05"
      ],
      "metadata": {
        "id": "YHNJ8X0hdKsH"
      },
      "id": "YHNJ8X0hdKsH",
      "execution_count": 17,
      "outputs": []
    },
    {
      "cell_type": "markdown",
      "source": [
        "#Завдання № 1\n",
        "\n",
        "Гіпотези6\n",
        "- Но : 𝜇0=123.7\n",
        "- Н1 : 𝜇1>123.7\n",
        "- Гіпотеза правостороня"
      ],
      "metadata": {
        "id": "gBFYLtmjcnuw"
      },
      "id": "gBFYLtmjcnuw"
    },
    {
      "cell_type": "markdown",
      "source": [
        "#Завдання № 2"
      ],
      "metadata": {
        "id": "kD_UO7Jec9-J"
      },
      "id": "kD_UO7Jec9-J"
    },
    {
      "cell_type": "code",
      "source": [
        "x_mean = np.mean(data)\n",
        "s = np.std(data, ddof=1)\n",
        "n = len(data)\n",
        "print(x_mean, s, n)"
      ],
      "metadata": {
        "id": "BcS4cm11QYpT",
        "colab": {
          "base_uri": "https://localhost:8080/"
        },
        "outputId": "dbe6cc25-4e08-4096-c596-507d37d95d5a"
      },
      "id": "BcS4cm11QYpT",
      "execution_count": 9,
      "outputs": [
        {
          "output_type": "stream",
          "name": "stdout",
          "text": [
            "132.28571428571428 10.980502200328935 7\n"
          ]
        }
      ]
    },
    {
      "cell_type": "markdown",
      "source": [
        "#Завдання № 3"
      ],
      "metadata": {
        "id": "tZrLHhtHdyp1"
      },
      "id": "tZrLHhtHdyp1"
    },
    {
      "cell_type": "code",
      "source": [
        "d_of_free = n - 1\n",
        "t_crit = stats.t.ppf(1-alpha, d_of_free)\n",
        "\n",
        "t_stat = (x_mean - mean_in_commerce) / (s / np.sqrt(n))\n",
        "\n",
        "p_value = 1 - stats.t.cdf(t_stat, d_of_free)\n",
        "\n",
        "print(f't-критичне: {t_crit:.3f}')\n",
        "print(f't-статистика: {t_stat:.3f}')\n",
        "print(f'p-value: {p_value:.4f}')\n",
        "\n",
        "if p_value < alpha:\n",
        "    print(f\"Відхиляємо H0: середній час до покупки збільшився на рівні значущості {alpha}\")\n",
        "else:\n",
        "    print(\"Не відхиляємо H0: доказів недостатньо\")"
      ],
      "metadata": {
        "colab": {
          "base_uri": "https://localhost:8080/"
        },
        "id": "lAEIK0gRd2Bh",
        "outputId": "003dca8f-8655-4fca-fbc7-553a3562e964"
      },
      "id": "lAEIK0gRd2Bh",
      "execution_count": 20,
      "outputs": [
        {
          "output_type": "stream",
          "name": "stdout",
          "text": [
            "t-критичне: 1.440\n",
            "t-статистика: 2.069\n",
            "p-value: 0.0420\n",
            "Відхиляємо H0: середній час до покупки збільшився на рівні значущості 0.1\n"
          ]
        }
      ]
    },
    {
      "cell_type": "code",
      "source": [
        "res = stats.ttest_1samp(data, popmean=mean_in_commerce, alternative='greater')\n",
        "print(f'scipy: t-статистика = {res.statistic:.3f}, p-value = {res.pvalue:.5f}')"
      ],
      "metadata": {
        "colab": {
          "base_uri": "https://localhost:8080/"
        },
        "id": "zDv1QCFEihRq",
        "outputId": "6cb732e5-6892-4bf8-ffad-2e55c4435a67"
      },
      "id": "zDv1QCFEihRq",
      "execution_count": 14,
      "outputs": [
        {
          "output_type": "stream",
          "name": "stdout",
          "text": [
            "scipy: t-статистика = 2.069, p-value = 0.04202\n"
          ]
        }
      ]
    },
    {
      "cell_type": "markdown",
      "source": [
        "#Висновок\n",
        "- t-статистика > t-критичне (2.069 > 1.440)\n",
        "- p-value менше за альфа (0.0420 < 0.10)\n",
        "- відхиляємо гіпотезу Но\n",
        "- є статистично значуще збільшення часу до покупки після редизайну на рівні значущості 0.10"
      ],
      "metadata": {
        "id": "KUljBFLLfakT"
      },
      "id": "KUljBFLLfakT"
    },
    {
      "cell_type": "markdown",
      "source": [
        "# Завдання № 6"
      ],
      "metadata": {
        "id": "Yy3x1le-jU0Y"
      },
      "id": "Yy3x1le-jU0Y"
    },
    {
      "cell_type": "code",
      "source": [
        "d_of_free = n - 1\n",
        "t_crit = stats.t.ppf(1-alpha_2, d_of_free)\n",
        "\n",
        "t_stat = (x_mean - mean_in_commerce) / (s / np.sqrt(n))\n",
        "\n",
        "p_value = 1 - stats.t.cdf(t_stat, d_of_free)\n",
        "\n",
        "print(f't-критичне: {t_crit:.3f}')\n",
        "print(f't-статистика: {t_stat:.3f}')\n",
        "print(f'p-value: {p_value:.4f}')"
      ],
      "metadata": {
        "colab": {
          "base_uri": "https://localhost:8080/"
        },
        "id": "yAxnC_eDj4KJ",
        "outputId": "8a351a45-7b04-4368-d0ec-dced63581084"
      },
      "id": "yAxnC_eDj4KJ",
      "execution_count": 18,
      "outputs": [
        {
          "output_type": "stream",
          "name": "stdout",
          "text": [
            "t-критичне: 1.943\n",
            "t-статистика: 2.069\n",
            "p-value: 0.0420\n"
          ]
        }
      ]
    },
    {
      "cell_type": "markdown",
      "source": [
        "Оскільки p-value (0.0420) значно менше за альфа, висновок не зміниться навіть при більш жорсткому рівні значущості 0.05. Це підтверджує наявність статистично значущої різниці у часі до покупки після редизайну.\n",
        "\n",
        "Також, це підтверджується співідношенням t-статистика > t-критичне (2.069 > 1.943)"
      ],
      "metadata": {
        "id": "7Q3D1qJWjt1X"
      },
      "id": "7Q3D1qJWjt1X"
    },
    {
      "cell_type": "markdown",
      "source": [
        "**Завдання 2.**\n",
        "\n",
        "До спеціальної рекламної кампанії **23%** дорослих упізнавали логотип компанії. Після завершення кампанії відділ маркетингу провів опитування: з **1200** випадково відібраних дорослих **311** упізнали логотип.\n",
        "\n",
        "Перевірте на рівні значущості **3%** ($\\alpha=0.03$), чи дають ці дані достатні підстави стверджувати, що **тепер більше ніж 23%** дорослих упізнають логотип компанії. Для розвʼязку використовуйте бібліотеку `statsmodels`.\n",
        "\n",
        "Зробіть висновок, чи зросла впізнаваність логотипу.\n",
        "\n",
        "Додатково, обчисліть довірчий інтревал на заданому рівні значущості і проінтерпретуйте текстом - як він додатково пояснює прийняте нами рішення?"
      ],
      "metadata": {
        "id": "5govLcx8FPSl"
      },
      "id": "5govLcx8FPSl"
    },
    {
      "cell_type": "markdown",
      "source": [
        "гіпотези\n",
        "-Но: р=р0\n",
        "- Н1: р>р0"
      ],
      "metadata": {
        "id": "U-AdCsl0sgyk"
      },
      "id": "U-AdCsl0sgyk"
    },
    {
      "cell_type": "code",
      "source": [
        "import statsmodels.api as sm\n",
        "from statsmodels.stats.proportion import proportions_ztest, proportion_confint\n",
        "\n",
        "count = 311   # кількість людей, що впізнали логотип\n",
        "nobs = 1200    # обсяг вибірки\n",
        "p0 = 0.23      # гіпотетична пропорція (H0)\n",
        "\n",
        "# z-тест для пропорції\n",
        "stat, pval = proportions_ztest(count, nobs, p0, alternative='larger')\n",
        "confint = proportion_confint(count, nobs, alpha=0.03, method='normal')\n",
        "\n",
        "print(f'Z-статистика = {stat:.3f}')\n",
        "print(f'p-value = {pval:.4f}')\n",
        "print(f'97% довірчий інтервал: {confint}')"
      ],
      "metadata": {
        "id": "rcplRfotId51",
        "colab": {
          "base_uri": "https://localhost:8080/"
        },
        "outputId": "36ecd7cb-fdeb-4212-a506-c7c65f1e320e"
      },
      "id": "rcplRfotId51",
      "execution_count": 23,
      "outputs": [
        {
          "output_type": "stream",
          "name": "stdout",
          "text": [
            "Z-статистика = 2.306\n",
            "p-value = 0.0106\n",
            "97% довірчий інтервал: (0.23171700302179205, 0.28661633031154127)\n"
          ]
        }
      ]
    },
    {
      "cell_type": "markdown",
      "source": [
        "###Висновок:\n",
        "-рекламна кампанія була ефективною — частка дорослих, які впізнають логотип компанії, статистично значуще зросла (p < 0.03) і становить більше 23%.\n",
        "\n",
        "- з довірою 97% (альфа = 0.03), стверджувати, що справжня частка всіх дорослих, які впізнають логотип компанії після кампанії відділу маркетингу, знаходиться між 23.17% та 28.66%. Довірчий інтервал не містить значення 0.23, що додатково підтримує висновок про зростання впізнаваності логотипу."
      ],
      "metadata": {
        "id": "x25hkDu1xnNE"
      },
      "id": "x25hkDu1xnNE"
    }
  ],
  "metadata": {
    "hide_input": false,
    "kernelspec": {
      "display_name": "Python 3 (ipykernel)",
      "language": "python",
      "name": "python3"
    },
    "language_info": {
      "codemirror_mode": {
        "name": "ipython",
        "version": 3
      },
      "file_extension": ".py",
      "mimetype": "text/x-python",
      "name": "python",
      "nbconvert_exporter": "python",
      "pygments_lexer": "ipython3",
      "version": "3.11.3"
    },
    "toc": {
      "base_numbering": 1,
      "nav_menu": {},
      "number_sections": true,
      "sideBar": true,
      "skip_h1_title": false,
      "title_cell": "Table of Contents",
      "title_sidebar": "Contents",
      "toc_cell": false,
      "toc_position": {},
      "toc_section_display": true,
      "toc_window_display": false
    },
    "varInspector": {
      "cols": {
        "lenName": 16,
        "lenType": 16,
        "lenVar": 40
      },
      "kernels_config": {
        "python": {
          "delete_cmd_postfix": "",
          "delete_cmd_prefix": "del ",
          "library": "var_list.py",
          "varRefreshCmd": "print(var_dic_list())"
        },
        "r": {
          "delete_cmd_postfix": ") ",
          "delete_cmd_prefix": "rm(",
          "library": "var_list.r",
          "varRefreshCmd": "cat(var_dic_list()) "
        }
      },
      "types_to_exclude": [
        "module",
        "function",
        "builtin_function_or_method",
        "instance",
        "_Feature"
      ],
      "window_display": false
    },
    "colab": {
      "provenance": []
    }
  },
  "nbformat": 4,
  "nbformat_minor": 5
}