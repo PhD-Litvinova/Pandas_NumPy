{
  "nbformat": 4,
  "nbformat_minor": 0,
  "metadata": {
    "colab": {
      "provenance": []
    },
    "kernelspec": {
      "name": "python3",
      "display_name": "Python 3"
    },
    "language_info": {
      "name": "python"
    }
  },
  "cells": [
    {
      "cell_type": "markdown",
      "metadata": {
        "ExecuteTime": {
          "end_time": "2022-12-10T17:43:42.137588Z",
          "start_time": "2022-12-10T17:43:42.124712Z"
        },
        "id": "f41183ed"
      },
      "source": [
        "## Аналіз A/B-тестів\n",
        "\n",
        "Ви - аналітик даних в ІТ-компанії і до вас надійшла задача проаналізувати дані A/B тесту в популярній [грі Cookie Cats](https://www.facebook.com/cookiecatsgame). Це - гра-головоломка в стилі «з’єднай три», де гравець повинен з’єднати плитки одного кольору, щоб очистити дошку та виграти рівень. На дошці також зображені співаючі котики :)\n",
        "\n",
        "Під час проходження гри гравці стикаються з воротами, які змушують їх чекати деякий час, перш ніж вони зможуть прогресувати або зробити покупку в додатку.\n",
        "\n",
        "У цьому блоці завдань ми проаналізуємо результати A/B тесту, коли перші ворота в Cookie Cats було переміщено з рівня 30 на рівень 40. Зокрема, ми хочемо зрозуміти, як це вплинуло на утримання (retention) гравців. Тобто хочемо зрозуміти, чи переміщення воріт на 10 рівнів пізніше якимось чином вплинуло на те, що користувачі перестають грати в гру раніше чи пізніше з точки зору кількості їх днів з моменту встановлення гри.\n",
        "\n",
        "Будемо працювати з даними з файлу `cookie_cats.csv`. Колонки в даних наступні:\n",
        "\n",
        "- `userid` - унікальний номер, який ідентифікує кожного гравця.\n",
        "- `version` - чи потрапив гравець в контрольну групу (gate_30 - ворота на 30 рівні) чи тестову групу (gate_40 - ворота на 40 рівні).\n",
        "- `sum_gamerounds` - кількість ігрових раундів, зіграних гравцем протягом першого тижня після встановлення\n",
        "- `retention_1` - чи через 1 день після встановлення гравець повернувся і почав грати?\n",
        "- `retention_7` - чи через 7 днів після встановлення гравець повернувся і почав грати?\n",
        "\n",
        "Коли гравець встановлював гру, його випадковим чином призначали до групи gate_30 або gate_40."
      ]
    },
    {
      "cell_type": "code",
      "source": [
        "import numpy as np\n",
        "import pandas as pd\n",
        "import scipy.stats as stats\n",
        "import statsmodels.stats.api as sms\n",
        "from math import ceil\n",
        "from statsmodels.stats.proportion import proportions_ztest, proportion_confint\n",
        "%matplotlib inline"
      ],
      "metadata": {
        "id": "lzknIeud8mSq"
      },
      "execution_count": 1,
      "outputs": []
    },
    {
      "cell_type": "code",
      "source": [
        "from google.colab import drive\n",
        "drive.mount('/content/drive')"
      ],
      "metadata": {
        "colab": {
          "base_uri": "https://localhost:8080/"
        },
        "id": "ShAU3qt78mH5",
        "outputId": "5ff22eb0-73bb-4220-e590-229467556ab4"
      },
      "execution_count": 3,
      "outputs": [
        {
          "output_type": "stream",
          "name": "stdout",
          "text": [
            "Mounted at /content/drive\n"
          ]
        }
      ]
    },
    {
      "cell_type": "code",
      "source": [
        "data_path = 'drive/MyDrive/Data_analitic/Python/statistical_hypothesis/cookie_cats.csv'\n",
        "dft = pd.read_csv(data_path)"
      ],
      "metadata": {
        "id": "gqm9MlV58l0l"
      },
      "execution_count": 4,
      "outputs": []
    },
    {
      "cell_type": "markdown",
      "source": [
        "1. Для початку, уявімо, що ми тільки плануємо проведення зазначеного А/B-тесту і хочемо зрозуміти, дані про скількох користувачів нам треба зібрати, аби досягнути відчутного ефекту. Відчутним ефектом ми вважатимемо збільшення утримання на 1% після внесення зміни. Обчисліть, скільки користувачів сумарно нам треба аби досягнути такого ефекту, якщо продакт менеджер нам повідомив, що базове утримання є 19%."
      ],
      "metadata": {
        "id": "XKhHA3eiueo0"
      }
    },
    {
      "cell_type": "code",
      "source": [
        "dft.info()"
      ],
      "metadata": {
        "colab": {
          "base_uri": "https://localhost:8080/"
        },
        "id": "YCbyh4hKNvbf",
        "outputId": "e5cfed7d-aeb9-4b94-e9c2-a3b50a49d725"
      },
      "execution_count": 18,
      "outputs": [
        {
          "output_type": "stream",
          "name": "stdout",
          "text": [
            "<class 'pandas.core.frame.DataFrame'>\n",
            "RangeIndex: 90189 entries, 0 to 90188\n",
            "Data columns (total 5 columns):\n",
            " #   Column          Non-Null Count  Dtype \n",
            "---  ------          --------------  ----- \n",
            " 0   userid          90189 non-null  int64 \n",
            " 1   version         90189 non-null  object\n",
            " 2   sum_gamerounds  90189 non-null  int64 \n",
            " 3   retention_1     90189 non-null  bool  \n",
            " 4   retention_7     90189 non-null  bool  \n",
            "dtypes: bool(2), int64(2), object(1)\n",
            "memory usage: 2.2+ MB\n"
          ]
        }
      ]
    },
    {
      "cell_type": "code",
      "source": [
        "effect_size = sms.proportion_effectsize(0.20, 0.19)"
      ],
      "metadata": {
        "id": "TcZ32BcIufKU"
      },
      "execution_count": 4,
      "outputs": []
    },
    {
      "cell_type": "code",
      "source": [
        "effect_size"
      ],
      "metadata": {
        "colab": {
          "base_uri": "https://localhost:8080/"
        },
        "id": "Oh-ZKJk8OALO",
        "outputId": "2e491cf9-a006-4cbd-fa5a-81fa274cb2ba"
      },
      "execution_count": 7,
      "outputs": [
        {
          "output_type": "execute_result",
          "data": {
            "text/plain": [
              "np.float64(0.025241594409087353)"
            ]
          },
          "metadata": {},
          "execution_count": 7
        }
      ]
    },
    {
      "cell_type": "code",
      "source": [
        "required_n = sms.NormalIndPower().solve_power(\n",
        "    effect_size,\n",
        "    power=0.8,\n",
        "    alpha=0.05,\n",
        "    ratio=1\n",
        "    )                                                  # Розрахунок необхідного розміру вибірки\n",
        "\n",
        "required_n = ceil(required_n)                          # Округлення до наступного цілого числа\n",
        "\n",
        "print(f'Кількість користувачі, яка необхідна для тестування {required_n}')"
      ],
      "metadata": {
        "colab": {
          "base_uri": "https://localhost:8080/"
        },
        "id": "C-qpdsHvNR_L",
        "outputId": "95865747-dfee-4ca0-83b2-5d7249fecc26"
      },
      "execution_count": 8,
      "outputs": [
        {
          "output_type": "stream",
          "name": "stdout",
          "text": [
            "Кількість користувачі, яка необхідна для тестування 24638\n"
          ]
        }
      ]
    },
    {
      "cell_type": "markdown",
      "metadata": {
        "id": "22f03df4"
      },
      "source": [
        "2. Зчитайте дані АВ тесту у змінну `df` та виведіть середнє значення показника показник `retention_7` (утримання на 7 день) по версіям гри. Сформулюйте гіпотезу: яка версія дає краще утримання через 7 днів після встановлення гри?"
      ]
    },
    {
      "cell_type": "code",
      "source": [
        "avg_retention = dft.groupby('version')['retention_7'].mean()\n",
        "print(avg_retention)"
      ],
      "metadata": {
        "id": "MVzMTs-jh22b",
        "colab": {
          "base_uri": "https://localhost:8080/"
        },
        "outputId": "2ebc7fea-cb39-45e9-edc1-ac73559ba0f2"
      },
      "execution_count": 14,
      "outputs": [
        {
          "output_type": "stream",
          "name": "stdout",
          "text": [
            "version\n",
            "gate_30    0.190201\n",
            "gate_40    0.182000\n",
            "Name: retention_7, dtype: float64\n"
          ]
        }
      ]
    },
    {
      "cell_type": "markdown",
      "source": [
        "##Гіпотеза\n",
        "- версія гри gate_30 дає 19% утримання\n",
        "- версія гри gate_40 дає 18.2% утримання\n",
        "- формування гіпотез:\n",
        "   - Но - 𝑝=𝑝0 (перенсення воріт на 10 рівнів не повпливало на залученість гравців)\n",
        "   - Н1 - 𝑝≠𝑝0 (перенесення воріт на 10 рівнів змінило утримання гравців у грі)"
      ],
      "metadata": {
        "id": "TbgeHV8FPlaI"
      }
    },
    {
      "cell_type": "markdown",
      "metadata": {
        "id": "74e9c6ca"
      },
      "source": [
        "3. Перевірте з допомогою пасуючого варіанту z-тесту, чи дає якась з версій гри кращий показник `retention_7` на рівні значущості 0.05. Обчисліть також довірчі інтервали для варіантів до переміщення воріт і після. Виведіть результат у форматі:\n",
        "\n",
        "    ```\n",
        "    z statistic: ...\n",
        "    p-value: ...\n",
        "    Довірчий інтервал 95% для групи control: [..., ...]\n",
        "    Довірчий інтервал 95% для групи treatment: [..., ...]\n",
        "    ```\n",
        "\n",
        "    де замість `...` - обчислені значення.\n",
        "    \n",
        "    В якості висновку дайте відповідь на два питання:  \n",
        "\n",
        "      1. Чи є статистична значущою різниця між поведінкою користувачів у різних версіях гри?   \n",
        "      2. Чи перетинаються довірчі інтервали утримання користувачів з різних версій гри? Про що це каже?  \n"
      ]
    },
    {
      "cell_type": "code",
      "source": [
        "control_results = dft[dft['version'] == 'gate_30']['retention_7']\n",
        "treatment_results = dft[dft['version'] == 'gate_40']['retention_7']"
      ],
      "metadata": {
        "id": "kXQE4gyjh5MS"
      },
      "execution_count": 23,
      "outputs": []
    },
    {
      "cell_type": "code",
      "source": [
        "n_con = control_results.count()\n",
        "n_treat = treatment_results.count()\n",
        "successes = [control_results.sum(), treatment_results.sum()]\n",
        "nobs = [n_con, n_treat]"
      ],
      "metadata": {
        "id": "7tko7ffARSbf"
      },
      "execution_count": 24,
      "outputs": []
    },
    {
      "cell_type": "code",
      "source": [
        "z_stat, pval = proportions_ztest(successes, nobs=nobs)\n",
        "(lower_con, lower_treat), (upper_con, upper_treat) = proportion_confint(successes, nobs=nobs, alpha=0.05)\n",
        "\n",
        "print(f'z statistic: {z_stat:.2f}')\n",
        "print(f'p-value: {pval:.3f}')\n",
        "print(f'Довірчий інтервал 95% для групи gate_30: [{lower_con:.3f}, {upper_con:.3f}]')\n",
        "print(f'Довірчий інтервал 95% для групи gate_40: [{lower_treat:.3f}, {upper_treat:.3f}]')"
      ],
      "metadata": {
        "colab": {
          "base_uri": "https://localhost:8080/"
        },
        "id": "De2FNVWdRezd",
        "outputId": "40dda139-7853-4d20-ecf4-26a24d59979c"
      },
      "execution_count": 26,
      "outputs": [
        {
          "output_type": "stream",
          "name": "stdout",
          "text": [
            "z statistic: 3.16\n",
            "p-value: 0.002\n",
            "Довірчий інтервал 95% для групи gate_30: [0.187, 0.194]\n",
            "Довірчий інтервал 95% для групи gate_40: [0.178, 0.186]\n"
          ]
        }
      ]
    },
    {
      "cell_type": "markdown",
      "source": [
        "##Висновок\n",
        "- p-value = 0.002 < 0.05, то ми відкидаємо нульову гіпотезу, на користь альтернативної гіпротези, що утримання на 7 день змінилося. Є статистична значущість між поведінкою користувачів у різних версіях гри на 7 день.\n",
        "- ні, довірчі інтервали не перетинаються. Це підтверджує сатистично значущу різницю між групами користувачів."
      ],
      "metadata": {
        "id": "IyAPRBL_SsJS"
      }
    },
    {
      "cell_type": "markdown",
      "metadata": {
        "ExecuteTime": {
          "end_time": "2022-12-10T20:50:10.709766Z",
          "start_time": "2022-12-10T20:50:10.639999Z"
        },
        "id": "076cd867"
      },
      "source": [
        "4. Виконайте тест Хі-квадрат на рівні значущості 5% аби визначити, чи є залежність між версією гри та утриманням гравця на 7ий день після реєстрації.\n",
        "\n",
        "    - Напишіть, як для цього тесту будуть сформульовані гіпотези.\n",
        "    - Проведіть обчислення, виведіть p-значення і напишіть висновок за результатами тесту.\n"
      ]
    },
    {
      "cell_type": "code",
      "source": [
        "crosstab = pd.crosstab(dft['version'], dft['retention_7'])"
      ],
      "metadata": {
        "id": "kcwD-91Fh84n"
      },
      "execution_count": 6,
      "outputs": []
    },
    {
      "cell_type": "code",
      "source": [
        "chi2, p, dof, expected = stats.chi2_contingency(crosstab)\n",
        "\n",
        "print(f'χ² = {chi2:.3f}')\n",
        "print(f'p-value = {p:.5f}')\n",
        "print(f'Ступені свободи = {dof}')\n",
        "print(f'Очікувані частоти:\\n', expected)"
      ],
      "metadata": {
        "colab": {
          "base_uri": "https://localhost:8080/"
        },
        "id": "2Ys2oePYaP0C",
        "outputId": "efcb5232-680f-4fcf-8055-14a5446df0f6"
      },
      "execution_count": 7,
      "outputs": [
        {
          "output_type": "stream",
          "name": "stdout",
          "text": [
            "χ² = 9.959\n",
            "p-value = 0.00160\n",
            "Ступені свободи = 1\n",
            "Очікувані частоти:\n",
            " [[36382.90257127  8317.09742873]\n",
            " [37025.09742873  8463.90257127]]\n"
          ]
        }
      ]
    },
    {
      "cell_type": "markdown",
      "source": [
        "##Гіпотеза\n",
        "- Но - версія гри, а точніше переміщення воріт на 10 рівнів пізніше не вплинуло на залученість учасників\n",
        "- Н1 - версія гри, вплиуло на залученість користувачів на 7 день"
      ],
      "metadata": {
        "id": "qM82u746bPx5"
      }
    },
    {
      "cell_type": "markdown",
      "source": [
        "##Висновок\n",
        "- p-value = 0.0016 < 0.05, то ми відкидаємо нульову гіпотезу, на користь альтернативної гіпротези, що утримання на 7 день змінилося. Є статистична значущість між поведінкою користувачів у різних версіях гри на 7 день."
      ],
      "metadata": {
        "id": "Bf5VzjjMb-WB"
      }
    },
    {
      "cell_type": "code",
      "source": [
        "crosstab_1 = pd.crosstab(dft['version'], dft['retention_1'])"
      ],
      "metadata": {
        "id": "c-uSuqTqdaKf"
      },
      "execution_count": 8,
      "outputs": []
    },
    {
      "cell_type": "code",
      "source": [
        "chi2, p, dof, expected = stats.chi2_contingency(crosstab_1)\n",
        "\n",
        "print(f'χ² = {chi2:.3f}')\n",
        "print(f'p-value = {p:.5f}')\n",
        "print(f'Ступені свободи = {dof}')\n",
        "print(f'Очікувані частоти:\\n' , expected)"
      ],
      "metadata": {
        "colab": {
          "base_uri": "https://localhost:8080/"
        },
        "id": "uDPqZz9qddF4",
        "outputId": "8bf04781-e57b-4f73-d07f-726444bc9089"
      },
      "execution_count": 13,
      "outputs": [
        {
          "output_type": "stream",
          "name": "stdout",
          "text": [
            "χ² = 3.159\n",
            "p-value = 0.07550\n",
            "Ступені свободи = 1\n",
            "Очікувані частоти:\n",
            " [[24799.13514952 19900.86485048]\n",
            " [25236.86485048 20252.13514952]]\n"
          ]
        }
      ]
    },
    {
      "cell_type": "markdown",
      "source": [
        "Проте, результати на 1 день відрізняються:\n",
        "- p-value = 0.07550 > 0.05, отже ми не відкидаємо нульову гіпотезу.\n",
        "Це означає, що немає статистично значущої залежності між версією гри та тим, чи користувач повернувся в перший день після встановлення гри."
      ],
      "metadata": {
        "id": "5199UWMud31t"
      }
    }
  ]
}